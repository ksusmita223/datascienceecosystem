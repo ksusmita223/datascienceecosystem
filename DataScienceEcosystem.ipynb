{
 "cells": [
  {
   "cell_type": "markdown",
   "id": "8b3985e4-b14f-4961-ad5d-e1b0e4108c0f",
   "metadata": {},
   "source": [
    "# Data Science Tools and Ecosystem"
   ]
  },
  {
   "cell_type": "markdown",
   "id": "41263e2c-78b7-4c45-8643-15b0a1755d02",
   "metadata": {},
   "source": [
    "In this notebook, Data Science Tools and Ecosystem are summarized."
   ]
  },
  {
   "cell_type": "markdown",
   "id": "c4675040-6304-4271-9649-25881010c356",
   "metadata": {},
   "source": [
    "Some data science languages data scientists use are\n",
    "1. python\n",
    "2. R\n",
    "3. javascript\n",
    "4. sql"
   ]
  },
  {
   "cell_type": "markdown",
   "id": "764f0989-32a9-47e6-b610-31070210294c",
   "metadata": {},
   "source": [
    "Data science libraries are\n",
    "1. scikit-learn\n",
    "2. tensorflow\n",
    "3. pytorch\n"
   ]
  },
  {
   "cell_type": "markdown",
   "id": "a3abf876-f08d-4144-a407-6973d93f9dd0",
   "metadata": {},
   "source": [
    "|Data Science Tools|\n",
    "|------------------|\n",
    "|Jupyter|\n",
    "|RStudio|\n",
    "|Apache zeppelin|"
   ]
  },
  {
   "cell_type": "markdown",
   "id": "f4d71ea6-48eb-45df-9516-f1eb15ff825a",
   "metadata": {},
   "source": [
    "### Below are a few examples of evaluating arithmetic expressions in Python\n",
    " 1+1  \n",
    " 9*2"
   ]
  },
  {
   "cell_type": "code",
   "execution_count": 6,
   "id": "910e6b75-c8bf-4b26-a61b-75cb2739666e",
   "metadata": {},
   "outputs": [
    {
     "data": {
      "text/plain": [
       "17"
      ]
     },
     "execution_count": 6,
     "metadata": {},
     "output_type": "execute_result"
    }
   ],
   "source": [
    " #This a simple arithmetic expression to mutiply then add integers\n",
    "(3*4)+5"
   ]
  },
  {
   "cell_type": "code",
   "execution_count": 3,
   "id": "8cf510c5-8b5b-41e9-a52b-cb9a2b934865",
   "metadata": {},
   "outputs": [
    {
     "data": {
      "text/plain": [
       "3.3333333333333335"
      ]
     },
     "execution_count": 3,
     "metadata": {},
     "output_type": "execute_result"
    }
   ],
   "source": [
    "#This will convert 200 minutes to hours by diving by 60\n",
    "\n",
    "200/60\n",
    "\n"
   ]
  },
  {
   "cell_type": "markdown",
   "id": "991bd10f-7aea-48fd-b4f7-34f9f95e7e4d",
   "metadata": {},
   "source": [
    "**Objectives:**\n",
    "- list of data science\n",
    "- data science libraries\n",
    "- data science development environment tools\n",
    "- arithmetic operations using python"
   ]
  },
  {
   "cell_type": "markdown",
   "id": "47eac7c8-1375-4aeb-80d5-dfc3a21513ff",
   "metadata": {},
   "source": [
    "## Author\n",
    "Susmita"
   ]
  },
  {
   "cell_type": "code",
   "execution_count": null,
   "id": "2dba635f-5681-4cb5-815c-31735fbd3532",
   "metadata": {},
   "outputs": [],
   "source": []
  }
 ],
 "metadata": {
  "kernelspec": {
   "display_name": "Python",
   "language": "python",
   "name": "conda-env-python-py"
  },
  "language_info": {
   "codemirror_mode": {
    "name": "ipython",
    "version": 3
   },
   "file_extension": ".py",
   "mimetype": "text/x-python",
   "name": "python",
   "nbconvert_exporter": "python",
   "pygments_lexer": "ipython3",
   "version": "3.7.12"
  }
 },
 "nbformat": 4,
 "nbformat_minor": 5
}
